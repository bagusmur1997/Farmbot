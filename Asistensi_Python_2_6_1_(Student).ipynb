{
  "nbformat": 4,
  "nbformat_minor": 0,
  "metadata": {
    "colab": {
      "provenance": [],
      "toc_visible": true,
      "include_colab_link": true
    },
    "kernelspec": {
      "name": "python3",
      "display_name": "Python 3"
    },
    "language_info": {
      "name": "python"
    }
  },
  "cells": [
    {
      "cell_type": "markdown",
      "metadata": {
        "id": "view-in-github",
        "colab_type": "text"
      },
      "source": [
        "<a href=\"https://colab.research.google.com/github/bagusmur1997/Farmbot/blob/master/Asistensi_Python_2_6_1_(Student).ipynb\" target=\"_parent\"><img src=\"https://colab.research.google.com/assets/colab-badge.svg\" alt=\"Open In Colab\"/></a>"
      ]
    },
    {
      "cell_type": "markdown",
      "source": [
        "# $\\text{Python Mar 27 | Asistensi 2.6.1}$\n",
        "\n",
        "Arti 2.6.1 adalah Python blok `2`, week ke-`6`, dan pertemuan ke-`1`"
      ],
      "metadata": {
        "id": "jM2cikNX0KqA"
      }
    },
    {
      "cell_type": "markdown",
      "source": [
        "## $\\text{A. Rekapan Materi}$"
      ],
      "metadata": {
        "id": "-kaKSfWyKjRF"
      }
    },
    {
      "cell_type": "markdown",
      "source": [
        "### $\\text{1. Error, Debugging, and Clean Code}$\n",
        "<font size = 4.7> **Syntax Error**</font></h1>\n",
        "- kesalahan dalam penulisan tata bahasa (syntax) pada Python\n",
        "- penulisan tidak sesuai dengan aturan bahasa pemrograman Python\n",
        "\n",
        "| Nama Error | Artinya |\n",
        "-------------|----------\n",
        "|SyntaxError            | kesalahan dalam tata bahasa pemrograman  |\n",
        "|IndentationError            | menggunakan indentasi secara tidak semestinya |\n",
        "\n"
      ],
      "metadata": {
        "id": "xew8CjFMtQNi"
      }
    },
    {
      "cell_type": "markdown",
      "source": [
        "<font size = 4.7> **Exception Error**</font></h1>\n",
        "- *error* yang terjadi selama proses eksekusi program\n",
        "- terdapat baris *code* tertentu yang salah\n",
        "\n",
        "| Nama Error | Artinya |\n",
        "-------------|----------\n",
        "|AttributeError            |   Objek tidak mengandung variabel atau metode contoh yang ditentukan      |\n",
        "|ImportError            | Statement import gagal menemukan modul atau nama tidak sesuai          |\n",
        "|IndexError            | Urutan(list, string, tuple) indeks di luar jangkauan        |\n",
        "|KeyError            | Key tidak ditentukan pada data dictionary  |\n",
        "|NameError            |Nama variabel lokal atau global yang ditentukan tidak ada                |\n",
        "|TypeError            | Operator atau fungsi yang diterapkan tidak tepat        |\n",
        "|ValueError            |Operasi atau fungsi diterapkan benar namun nilai tidak sesuai         |\n",
        "|ZeroDivisionError            |   Operand kedua dalam operasi pembagian atau modulus adalah nol      |\n",
        "\n",
        "Hierarki Exception: https://docs.python.org/3/library/exceptions.html#exception-hierarchy"
      ],
      "metadata": {
        "id": "xzkh0vu5IJho"
      }
    },
    {
      "cell_type": "markdown",
      "source": [
        "<font size = 4.7> **Logical Error**</font></h1>\n",
        "- tidak akan mendapatkan pesan kesalahan (*error*) mengenai apa\n",
        "- program berjalan namun output tidak sesuai harapan\n",
        "- **solusi:** debugging"
      ],
      "metadata": {
        "id": "9FEYxtkWIgss"
      }
    },
    {
      "cell_type": "markdown",
      "source": [
        "#### **Debugging**\n",
        "- pencarian letak kesalahan (logic error / bug) program.\n",
        "- proses trial dan error.\n",
        "- sarana belajar *programming* supaya program yang dibuat kedepannya dapat lebih efisien dan sistematis\n",
        "- how:\n",
        "    1. fungsi `print()`\n",
        "    \n",
        "    validasi bahwa nilai yang diinginkan pada flow program sudah benar.\n",
        "    2. modul `pdb` (python debugger)\n",
        "        - menyisipkan pdb pada source code\n",
        "        - post-mortem debugging menggunakan `pdb.pm()`\n",
        "        - menjalankan secara langsung pada terminal"
      ],
      "metadata": {
        "id": "X3dNJzOrImIY"
      }
    },
    {
      "cell_type": "code",
      "source": [
        "# menyisipkan pdb pada source code\n",
        "import pdb\n",
        "\n",
        "pdb.set_trace()"
      ],
      "metadata": {
        "id": "jv-79XLsH5xT"
      },
      "execution_count": null,
      "outputs": []
    },
    {
      "cell_type": "code",
      "source": [
        "# menjalankan secara langsung pada terminal\n",
        "python -m pdb (nama_file).py "
      ],
      "metadata": {
        "id": "1uM0RNHGE22T"
      },
      "execution_count": null,
      "outputs": []
    },
    {
      "cell_type": "markdown",
      "source": [
        "Kenapa harus memakai `self`?\n",
        "* Aturan dari Python.\n",
        "* Jika tidak memakai `self` akan menjadi atribut kelas.\n",
        "* Lebih umum digunakan supaya dapat membuat atribut dan method yang ***instance-specific*** (berbeda setiap objek)"
      ],
      "metadata": {
        "id": "PI51l8boKvIW"
      }
    },
    {
      "cell_type": "markdown",
      "source": [
        "##### **Try, Except, and Raise**"
      ],
      "metadata": {
        "id": "3gfSLqkJE7Tn"
      }
    },
    {
      "cell_type": "code",
      "source": [
        "9/0"
      ],
      "metadata": {
        "id": "GeowacGtKtSa"
      },
      "execution_count": null,
      "outputs": []
    },
    {
      "cell_type": "code",
      "source": [
        "try:\n",
        "    print('try     : execute/run this code (always run firsts)')\n",
        "    # 9/0\n",
        "    print(integer)\n",
        "except ZeroDivisionError:\n",
        "    print('Terjadi exception zero divisor')\n",
        "except NameError:\n",
        "    print('Terjadi exception atribut')\n",
        "except:\n",
        "    print('except  : execute this block when exception/error occured')\n",
        "finally:\n",
        "    print('finally : always execute/run this block code')"
      ],
      "metadata": {
        "id": "NoyFY7cSLQHU"
      },
      "execution_count": null,
      "outputs": []
    },
    {
      "cell_type": "code",
      "source": [
        "try:\n",
        "    import panda\n",
        "    penyebut = int(input(\"masukan angka penyebut: \"))\n",
        "    pembilang = int(input(\"masukan angka pembilang: \"))\n",
        "    hasil = penyebut/pembilang\n",
        "    # break\n",
        "except ValueError:\n",
        "    print(\"yang anda masukan bukan angka\\n\")\n",
        "except ImportError:\n",
        "    print(\"gak ada modulnya bro\")\n",
        "finally :\n",
        "  print('hai')"
      ],
      "metadata": {
        "id": "AswAJTNiFBb3",
        "colab": {
          "base_uri": "https://localhost:8080/"
        },
        "outputId": "38e746a3-a45b-4888-b64a-b5bef28da359"
      },
      "execution_count": null,
      "outputs": [
        {
          "output_type": "stream",
          "name": "stdout",
          "text": [
            "gak ada modulnya bro\n",
            "hai\n"
          ]
        }
      ]
    },
    {
      "cell_type": "code",
      "source": [
        "import pandas\n",
        "penyebut = int(input(\"masukan angka penyebut: \"))\n",
        "pembilang = int(input(\"masukan angka pembilang: \"))\n",
        "hasil = penyebut/pembilang"
      ],
      "metadata": {
        "id": "AOJIxkj-dUPN"
      },
      "execution_count": null,
      "outputs": []
    },
    {
      "cell_type": "markdown",
      "source": [
        "- [w3schools.com - python try except](https://www.w3schools.com/python/python_try_except.asp)\n",
        "- [kelas terbuka - exception, error, try, except](https://youtu.be/ObTWBJ4QCPQ)"
      ],
      "metadata": {
        "id": "-B9Ev95oMVtO"
      }
    },
    {
      "cell_type": "code",
      "source": [
        "# raise: stop the execution of the program and alert the user to an error or abnormal condition\n",
        "raise Exception(\"user text\"/Exception)"
      ],
      "metadata": {
        "id": "Lm4wsCvsMad6"
      },
      "execution_count": null,
      "outputs": []
    },
    {
      "cell_type": "code",
      "source": [
        "def divide(a, b):\n",
        "    if b == 0:\n",
        "        raise Exception(\"user text\"/Exception)\n",
        "    return a / b\n",
        "\n",
        "print(divide(5, 2))\n",
        "print(divide(5, 0))"
      ],
      "metadata": {
        "colab": {
          "base_uri": "https://localhost:8080/"
        },
        "id": "IignKpIvNkNN",
        "outputId": "fed9648d-3975-46d6-fcbf-6322bd7b6dca"
      },
      "execution_count": null,
      "outputs": [
        {
          "output_type": "stream",
          "name": "stdout",
          "text": [
            "43.96 153.86\n"
          ]
        }
      ]
    },
    {
      "cell_type": "markdown",
      "source": [
        "#### **Clean Code**\n",
        "- Naming Conventions\n",
        "\n",
        "|Type | Naming Convention | Contoh|\n",
        "-------------|----------|--------|\n",
        "|Function            |   Menggunakan huruf kecil tiap kata. pisahkan antar kata menggunakan underscore      |  function, my_function|function, my_function|\n",
        "|Variable            | Menggunakan satu kata atau lebih  dengan huruf kecil. pisahkan antar kata menggunakan underscore |x, var, my_variable|\n",
        "|Class            | Dimulai awal kata dengan huruf besar. jangan memisahkan antar kata dengan underscore. style ini disebut camel base        |Model, MyClass|\n",
        "|Method            | Key tidak ditentukan pada data dictionary  |class_method, method|\n",
        "|Constant            | Menggunakan huruf besar pada satu kata atau lebih |pisahkan kata dengan underscore|CONSTANT, MY_CONSTANT, MY_LONG_CONSTANT|\n",
        "|Module            | Menggunakan huruf kecil dalam penamaannya. pisahkan kata dengan underscore         |module.py, my_module.py|\n",
        "|Package            |Menggunakan huruf kecil dalam penamaannya. jangan pisahkan kata dengan underscore |package, mypackage|\n",
        "\n",
        "- Code Layout\n",
        "- Indentations\n",
        "- Comments\n",
        "- Docstrings\n",
        "- Whitespace\n",
        "- When to Ignore PEP8\n",
        "\n",
        "**When to Ignore PEP8**\n",
        "\n",
        "Pada dasarnya ketika anda telah mengikuti arahan dari PEP 8 maka dapat dijamin kode anda akan lebih clean, professional, dan readable. Hal ini akan menguntungkan semua pihak, termasuk kolaborator dan teman kerja anda.\n",
        "\n",
        "Namun, tetap ada beberapa guidelines yang bisa dicermati untuk memilih kapan saatnya tidak menggunakan anjuran PEP 8:\n",
        "\n",
        "* If complying with PEP 8 would break compatibility with existing software\n",
        "* If code surrounding what you’re working on is inconsistent with PEP 8\n",
        "* If code needs to remain compatible with older versions of Python"
      ],
      "metadata": {
        "id": "xuJep1dKFKSC"
      }
    },
    {
      "cell_type": "markdown",
      "source": [
        "## $\\text{B. Quizz}$"
      ],
      "metadata": {
        "id": "_cDOgr2WK20Y"
      }
    },
    {
      "cell_type": "markdown",
      "source": [
        "### $\\text{Soal 1}$\n",
        "\n",
        "Diberikan sebuah fungsi yang mengalikan masing-masing elemen antara 2 buah list. Misalkan:\n",
        "```\n",
        "list_1 = [2,4,5]\n",
        "list_2 = [3,2,6]\n",
        "```\n",
        "Maka hasilnya:\n",
        "```\n",
        "list_hasil = [6,8,30]\n",
        "```\n",
        "Namun, implementasi fungsi berikut masih terdapat beberapa bug. Perbaikilah kode berikut:"
      ],
      "metadata": {
        "id": "KjVTpvz2N-n8"
      }
    },
    {
      "cell_type": "code",
      "source": [
        "def kali(list_1, list_2):\n",
        "    list_hasil = () \n",
        "    for i in range(0, len(list_1)):\n",
        "        hasil = list_1[i] * list_2[i]\n",
        "        list_hasil.append(hasil)\n",
        "    print(list_hasil)\n",
        "\n",
        "\n",
        "list_1 = [2,4,5]\n",
        "list_2 = [3,2,6]\n",
        "print(kali(list_1,list_2))"
      ],
      "metadata": {
        "colab": {
          "base_uri": "https://localhost:8080/",
          "height": 322
        },
        "id": "bUXy_7zqOHnc",
        "outputId": "5191696f-52a2-4c4e-80dc-d8afb6d74ae6"
      },
      "execution_count": null,
      "outputs": [
        {
          "output_type": "error",
          "ename": "AttributeError",
          "evalue": "ignored",
          "traceback": [
            "\u001b[0;31m---------------------------------------------------------------------------\u001b[0m",
            "\u001b[0;31mAttributeError\u001b[0m                            Traceback (most recent call last)",
            "\u001b[0;32m<ipython-input-13-cdbe5e77ceb7>\u001b[0m in \u001b[0;36m<module>\u001b[0;34m\u001b[0m\n\u001b[1;32m      9\u001b[0m \u001b[0mlist_1\u001b[0m \u001b[0;34m=\u001b[0m \u001b[0;34m[\u001b[0m\u001b[0;36m2\u001b[0m\u001b[0;34m,\u001b[0m\u001b[0;36m4\u001b[0m\u001b[0;34m,\u001b[0m\u001b[0;36m5\u001b[0m\u001b[0;34m]\u001b[0m\u001b[0;34m\u001b[0m\u001b[0;34m\u001b[0m\u001b[0m\n\u001b[1;32m     10\u001b[0m \u001b[0mlist_2\u001b[0m \u001b[0;34m=\u001b[0m \u001b[0;34m[\u001b[0m\u001b[0;36m3\u001b[0m\u001b[0;34m,\u001b[0m\u001b[0;36m2\u001b[0m\u001b[0;34m,\u001b[0m\u001b[0;36m6\u001b[0m\u001b[0;34m]\u001b[0m\u001b[0;34m\u001b[0m\u001b[0;34m\u001b[0m\u001b[0m\n\u001b[0;32m---> 11\u001b[0;31m \u001b[0mprint\u001b[0m\u001b[0;34m(\u001b[0m\u001b[0mkali\u001b[0m\u001b[0;34m(\u001b[0m\u001b[0mlist_1\u001b[0m\u001b[0;34m,\u001b[0m\u001b[0mlist_2\u001b[0m\u001b[0;34m)\u001b[0m\u001b[0;34m)\u001b[0m\u001b[0;34m\u001b[0m\u001b[0;34m\u001b[0m\u001b[0m\n\u001b[0m",
            "\u001b[0;32m<ipython-input-13-cdbe5e77ceb7>\u001b[0m in \u001b[0;36mkali\u001b[0;34m(list_1, list_2)\u001b[0m\n\u001b[1;32m      3\u001b[0m     \u001b[0;32mfor\u001b[0m \u001b[0mi\u001b[0m \u001b[0;32min\u001b[0m \u001b[0mrange\u001b[0m\u001b[0;34m(\u001b[0m\u001b[0;36m0\u001b[0m\u001b[0;34m,\u001b[0m \u001b[0mlen\u001b[0m\u001b[0;34m(\u001b[0m\u001b[0mlist_1\u001b[0m\u001b[0;34m)\u001b[0m\u001b[0;34m)\u001b[0m\u001b[0;34m:\u001b[0m\u001b[0;34m\u001b[0m\u001b[0;34m\u001b[0m\u001b[0m\n\u001b[1;32m      4\u001b[0m         \u001b[0mhasil\u001b[0m \u001b[0;34m=\u001b[0m \u001b[0mlist_1\u001b[0m\u001b[0;34m[\u001b[0m\u001b[0mi\u001b[0m\u001b[0;34m]\u001b[0m \u001b[0;34m*\u001b[0m \u001b[0mlist_2\u001b[0m\u001b[0;34m[\u001b[0m\u001b[0mi\u001b[0m\u001b[0;34m]\u001b[0m\u001b[0;34m\u001b[0m\u001b[0;34m\u001b[0m\u001b[0m\n\u001b[0;32m----> 5\u001b[0;31m         \u001b[0mlist_hasil\u001b[0m\u001b[0;34m.\u001b[0m\u001b[0mappend\u001b[0m\u001b[0;34m(\u001b[0m\u001b[0mhasil\u001b[0m\u001b[0;34m)\u001b[0m\u001b[0;34m\u001b[0m\u001b[0;34m\u001b[0m\u001b[0m\n\u001b[0m\u001b[1;32m      6\u001b[0m     \u001b[0mprint\u001b[0m\u001b[0;34m(\u001b[0m\u001b[0mlist_hasil\u001b[0m\u001b[0;34m)\u001b[0m\u001b[0;34m\u001b[0m\u001b[0;34m\u001b[0m\u001b[0m\n\u001b[1;32m      7\u001b[0m \u001b[0;34m\u001b[0m\u001b[0m\n",
            "\u001b[0;31mAttributeError\u001b[0m: 'tuple' object has no attribute 'append'"
          ]
        }
      ]
    },
    {
      "cell_type": "code",
      "source": [
        "# Jawab disini\n"
      ],
      "metadata": {
        "id": "hxG4HXitO3fx"
      },
      "execution_count": null,
      "outputs": []
    },
    {
      "cell_type": "markdown",
      "source": [
        "### $\\text{Soal 2}$\n",
        "\n",
        "\n",
        "Di sebuah club, terdapat sistem check_age untuk memeriksa apakah usianya 18 tahun atau lebih. Jika usia kurang dari 18 tahun, fungsi memunculkan ValueError dengan pesan \"Umur harus 18 tahun atau lebih\". Program kemudian menggunakan try-except untuk menangkap pengecualian ini dan mencetak pesan kesalahan."
      ],
      "metadata": {
        "id": "qA6CArs8aSlM"
      }
    },
    {
      "cell_type": "code",
      "source": [
        "def check_age(age):\n",
        "    if age < 18:\n",
        "        raise ValueError('Age must be 18 or older')# raise an exception\n",
        "        print('Underage')\n",
        "    else:\n",
        "        print(\"Welcome!\")\n",
        "\n",
        "try:\n",
        "    user_age = int(input('Enter your age: ')) # user input\n",
        "    check_age(user_age) # call function\n",
        "except Exception as e:\n",
        "    print(e) # print exception"
      ],
      "metadata": {
        "colab": {
          "base_uri": "https://localhost:8080/"
        },
        "id": "QJvFijtyKNyE",
        "outputId": "9ef915c9-57df-421c-c229-620fc60ed3e1"
      },
      "execution_count": null,
      "outputs": [
        {
          "output_type": "stream",
          "name": "stdout",
          "text": [
            "Enter your age: 18\n",
            "Welcome!\n"
          ]
        }
      ]
    },
    {
      "cell_type": "markdown",
      "source": [
        "- Modifikasi kode supaya program dapat meminta user mengisi ulang umur jika terdapat raise exception\n",
        "- Artinya user akan terus menginputkan umur sampai user menginputkan umur >=18 "
      ],
      "metadata": {
        "id": "LikvpuBzKlIy"
      }
    },
    {
      "cell_type": "code",
      "source": [
        "# Jawab disini\n"
      ],
      "metadata": {
        "id": "ZeN-JPT3Kkwv"
      },
      "execution_count": null,
      "outputs": []
    },
    {
      "cell_type": "markdown",
      "source": [
        "### $\\text{Soal 3}$\n",
        "\n",
        "Perbaiki kode dibawah ini!\n",
        "\n",
        "- Siswa dikatakan lulus jika memperoleh indeks A, B, atau C, dan dikatakan mengulang jika memperoleh indeks D dan E.\n",
        "- Program menerima input nilai angka dan menentukan kelulusan berdasarkan aturan konversi nilai indeks dibawah ini.\n",
        "    - A : 90 <= x <= 100\n",
        "    - B : 80 <= x < 90\n",
        "    - C : 70 <= x < 80\n",
        "    - D : 60 <= x < 70\n",
        "    - E : x < 60\n"
      ],
      "metadata": {
        "id": "UO5mUMtNLYxS"
      }
    },
    {
      "cell_type": "code",
      "source": [
        "na = int(input('Masukkan nilai angka: '))\n",
        "grade = ''\n",
        "\n",
        "if na > 90:\n",
        "    grade = 'A'\n",
        "elif na < 90:\n",
        "    grade = 'B'\n",
        "elif na < 80:\n",
        "    grade = 'C'\n",
        "elif na < 70:\n",
        "    grade = 'D'\n",
        "elif na < 60:\n",
        "    grade = 'E'\n",
        "\n",
        "if grade == 'A' or 'B' or 'C':\n",
        "    print('Siswa Lulus dengan nilai', grade)\n",
        "else:\n",
        "    print('Siswa Mengulang dengan nilai', grade)"
      ],
      "metadata": {
        "colab": {
          "base_uri": "https://localhost:8080/"
        },
        "id": "0B2qAZhlcStJ",
        "outputId": "e03a4f4b-df7e-4ebd-ea46-7aa036d89521"
      },
      "execution_count": null,
      "outputs": [
        {
          "output_type": "stream",
          "name": "stdout",
          "text": [
            "Masukkan nilai angka: 79\n",
            "Siswa Lulus dengan nilai B\n"
          ]
        }
      ]
    },
    {
      "cell_type": "code",
      "source": [
        "# Jawab disini\n"
      ],
      "metadata": {
        "id": "7XhVJSO4OxvV"
      },
      "execution_count": null,
      "outputs": []
    },
    {
      "cell_type": "markdown",
      "source": [
        "---\n",
        "# $\\text{Feedback Asistensi}$\n",
        "Terima Kasih telah mengikuti sesi asistensi hari ini! 😀\n",
        "\n",
        "Jangan lupa untuk mengisi feedback juga yaa, link feedback dapat diakses di\n",
        "[sini](https://bit.ly/FeedbackAsistensiSDA-Feb23)\n",
        "- Kelas = Python\n",
        "- Pekan = 6"
      ],
      "metadata": {
        "id": "WO8k6aPnNjH3"
      }
    }
  ]
}